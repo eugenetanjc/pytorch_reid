{
 "cells": [
  {
   "cell_type": "code",
   "execution_count": null,
   "id": "00d8bb80",
   "metadata": {},
   "outputs": [],
   "source": [
    "!git clone https://github.com/pytorch/vision\n",
    "%cd C:\\Users\\eugen\\Downloads\\my_proj\\vision\n",
    "!python setup.py install"
   ]
  },
  {
   "cell_type": "code",
   "execution_count": null,
   "id": "25ae0cc4",
   "metadata": {},
   "outputs": [],
   "source": [
    "!python prepare.py"
   ]
  },
  {
   "cell_type": "code",
   "execution_count": null,
   "id": "5978ddf9",
   "metadata": {},
   "outputs": [
    {
     "name": "stdout",
     "output_type": "stream",
     "text": [
      "C:\\Users\\eugen\\Downloads\\my_proj\\vision\n"
     ]
    }
   ],
   "source": [
    "!python train.py --gpu_ids 0 --name ft_ResNet50 --train_all --batchsize 32  --data_dir C:\\Users\\eugen\\Downloads\\Market-1501-v15.09.15\\Market\\pytorch"
   ]
  },
  {
   "cell_type": "code",
   "execution_count": 12,
   "id": "d0b8b7af",
   "metadata": {},
   "outputs": [
    {
     "name": "stdout",
     "output_type": "stream",
     "text": [
      "C:\\Users\\eugen\n"
     ]
    }
   ],
   "source": [
    "!python test.py --gpu_ids 0 --name ft_ResNet50 --test_dir C:\\Users\\eugen\\Downloads\\Market-1501-v15.09.15\\Market\\pytorch  --batchsize 32 --which_epoch 59"
   ]
  }
 ],
 "metadata": {
  "kernelspec": {
   "display_name": "Python 3",
   "language": "python",
   "name": "python3"
  },
  "language_info": {
   "codemirror_mode": {
    "name": "ipython",
    "version": 3
   },
   "file_extension": ".py",
   "mimetype": "text/x-python",
   "name": "python",
   "nbconvert_exporter": "python",
   "pygments_lexer": "ipython3",
   "version": "3.8.8"
  }
 },
 "nbformat": 4,
 "nbformat_minor": 5
}
